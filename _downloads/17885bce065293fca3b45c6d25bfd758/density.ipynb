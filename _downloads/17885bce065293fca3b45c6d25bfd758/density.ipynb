{
  "cells": [
    {
      "cell_type": "markdown",
      "metadata": {},
      "source": [
        "\n# Density\n\nBelow is an example of how to plot a density\nhistogram plot using EMCPy's plotting method.\n"
      ]
    },
    {
      "cell_type": "code",
      "execution_count": null,
      "metadata": {
        "collapsed": false
      },
      "outputs": [],
      "source": [
        "import numpy as np\nimport matplotlib.pyplot as plt\n\nfrom emcpy.plots.plots import Density\nfrom emcpy.plots.create_plots import CreatePlot, CreateFigure\n\n\ndef main():\n    # Test density plot\n\n    # Grab sample data\n    data = _getHistData()\n\n    # Create density object\n    den1 = Density(data)\n    den1.label = 'Density'\n\n    # Create plot object and add features\n    plot1 = CreatePlot()\n    plot1.plot_layers = [den1]\n    plot1.add_title(label='Density Plot')\n    plot1.add_xlabel(xlabel='X Axis Label')\n    plot1.add_ylabel(ylabel='Y Axis Label')\n\n    # Create figure\n    fig = CreateFigure()\n    fig.plot_list = [plot1]\n    fig.create_figure()\n\n    plt.show()\n\n\ndef _getHistData():\n    # Generate test data for histogram plots\n\n    mu = 100  # mean of distribution\n    sigma = 15  # standard deviation of distribution\n    data = mu + sigma * np.random.randn(437)\n\n    return data\n\n\nif __name__ == '__main__':\n    main()"
      ]
    }
  ],
  "metadata": {
    "kernelspec": {
      "display_name": "Python 3",
      "language": "python",
      "name": "python3"
    },
    "language_info": {
      "codemirror_mode": {
        "name": "ipython",
        "version": 3
      },
      "file_extension": ".py",
      "mimetype": "text/x-python",
      "name": "python",
      "nbconvert_exporter": "python",
      "pygments_lexer": "ipython3",
      "version": "3.12.2"
    }
  },
  "nbformat": 4,
  "nbformat_minor": 0
}