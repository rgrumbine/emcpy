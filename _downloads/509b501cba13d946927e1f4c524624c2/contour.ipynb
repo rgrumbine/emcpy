{
  "cells": [
    {
      "cell_type": "markdown",
      "metadata": {},
      "source": [
        "\n# Contour\n\nBelow is an example of how to plot a contour\nplot using EMCPy's plotting method.\n"
      ]
    },
    {
      "cell_type": "code",
      "execution_count": null,
      "metadata": {
        "collapsed": false
      },
      "outputs": [],
      "source": [
        "import numpy as np\nimport matplotlib.pyplot as plt\n\nfrom emcpy.plots.plots import ContourPlot\nfrom emcpy.plots.create_plots import CreatePlot, CreateFigure\n\n\ndef main():\n    # Create contourf plot\n\n    # Grab sample data\n    x, y, z = _getContourData()\n\n    # Create contour plot object\n    cp = ContourPlot(x, y, z)\n    cp.linestyles = '--'\n    cp.colors = 'green'\n\n    # Create plot and add features\n    plot1 = CreatePlot()\n    plot1.plot_layers = [cp]\n    plot1.add_xlabel(xlabel='X Axis Label')\n    plot1.add_ylabel(ylabel='Y Axis Label')\n    plot1.add_title('Contour Plot')\n\n    # Create figure\n    fig = CreateFigure()\n    fig.plot_list = [plot1]\n    fig.create_figure()\n\n    plt.show()\n\n\ndef _getContourData():\n    # Generate test data for contour plots\n\n    x = np.linspace(-3, 15, 50).reshape(1, -1)\n    y = np.linspace(-3, 15, 20).reshape(-1, 1)\n    z = np.cos(x)*2 - np.sin(y)*2\n\n    x, y = x.flatten(), y.flatten()\n\n    return x, y, z\n\n\nif __name__ == '__main__':\n    main()"
      ]
    }
  ],
  "metadata": {
    "kernelspec": {
      "display_name": "Python 3",
      "language": "python",
      "name": "python3"
    },
    "language_info": {
      "codemirror_mode": {
        "name": "ipython",
        "version": 3
      },
      "file_extension": ".py",
      "mimetype": "text/x-python",
      "name": "python",
      "nbconvert_exporter": "python",
      "pygments_lexer": "ipython3",
      "version": "3.12.2"
    }
  },
  "nbformat": 4,
  "nbformat_minor": 0
}