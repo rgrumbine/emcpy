{
  "cells": [
    {
      "cell_type": "markdown",
      "metadata": {},
      "source": [
        "\n# Bar Plot\n\nBelow is an example of how to plot a bar\nplot using EMCPy's plotting method.\n"
      ]
    },
    {
      "cell_type": "code",
      "execution_count": null,
      "metadata": {
        "collapsed": false
      },
      "outputs": [],
      "source": [
        "import numpy as np\nimport matplotlib.pyplot as plt\n\nfrom emcpy.plots.plots import BarPlot\nfrom emcpy.plots.create_plots import CreatePlot, CreateFigure\n\n\ndef main():\n    # Create bar plot\n\n    # Grab sample bar plot data\n    x_pos, heights = _getBarData()\n\n    # Create bar plot object\n    bar = BarPlot(x_pos, heights)\n    bar.color = 'tab:red'\n\n    # Create plot object and add features\n    plot1 = CreatePlot()\n    plot1.plot_layers = [bar]\n    plot1.add_xlabel(xlabel='X Axis Label')\n    plot1.add_ylabel(ylabel='Y Axis Label')\n    plot1.add_title(\"Bar Plot\")\n\n    # Create figure\n    fig = CreateFigure()\n    fig.plot_list = [plot1]\n    fig.create_figure()\n\n    plt.show()\n\n\ndef _getBarData():\n    # Generate test data for bar graphs\n\n    x = ['a', 'b', 'c', 'd', 'e', 'f']\n    heights = [5, 6, 15, 22, 24, 8]\n\n    x_pos = [i for i, _ in enumerate(x)]\n\n    return x_pos, heights\n\n\nif __name__ == '__main__':\n    main()"
      ]
    }
  ],
  "metadata": {
    "kernelspec": {
      "display_name": "Python 3",
      "language": "python",
      "name": "python3"
    },
    "language_info": {
      "codemirror_mode": {
        "name": "ipython",
        "version": 3
      },
      "file_extension": ".py",
      "mimetype": "text/x-python",
      "name": "python",
      "nbconvert_exporter": "python",
      "pygments_lexer": "ipython3",
      "version": "3.12.2"
    }
  },
  "nbformat": 4,
  "nbformat_minor": 0
}