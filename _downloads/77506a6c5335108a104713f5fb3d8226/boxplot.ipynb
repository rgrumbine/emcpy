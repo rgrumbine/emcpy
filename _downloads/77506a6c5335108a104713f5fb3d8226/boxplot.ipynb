{
  "cells": [
    {
      "cell_type": "markdown",
      "metadata": {},
      "source": [
        "\n# Box Plot\n\nBelow is an example of how to plot a box\nplot using EMCPy's plotting method.\n"
      ]
    },
    {
      "cell_type": "code",
      "execution_count": null,
      "metadata": {
        "collapsed": false
      },
      "outputs": [],
      "source": [
        "import numpy as np\nimport matplotlib.pyplot as plt\n\nfrom emcpy.plots.plots import BoxandWhiskerPlot\nfrom emcpy.plots.create_plots import CreatePlot, CreateFigure\n\n\ndef main():\n    # Create box and whisker plot\n\n    # Grab sample data\n    data = _getBoxPlotData()\n\n    # Create box plot object\n    bwp = BoxandWhiskerPlot(data)\n    bwp.label = 'Box Plot data'\n\n    # Create plot object and add features\n    plot1 = CreatePlot()\n    plot1.plot_layers = [bwp]\n    plot1.add_xlabel(xlabel='X Axis Label')\n    plot1.add_ylabel(ylabel='Y Axis Label')\n    plot1.add_title('Test Box and Whisker Plot')\n    plot1.add_legend(loc='upper left')\n\n    # Create figure\n    fig = CreateFigure()\n    fig.plot_list = [plot1]\n    fig.create_figure()\n\n    plt.show()\n\n\ndef _getBoxPlotData():\n    # Generate test data for box and whisker plot\n\n    # Fixing random state for reproducibility\n    np.random.seed(19680801)\n\n    data = [np.random.normal(0, std, 100) for std in range(6, 10)]\n\n    return data\n\n\nif __name__ == '__main__':\n    main()"
      ]
    }
  ],
  "metadata": {
    "kernelspec": {
      "display_name": "Python 3",
      "language": "python",
      "name": "python3"
    },
    "language_info": {
      "codemirror_mode": {
        "name": "ipython",
        "version": 3
      },
      "file_extension": ".py",
      "mimetype": "text/x-python",
      "name": "python",
      "nbconvert_exporter": "python",
      "pygments_lexer": "ipython3",
      "version": "3.12.2"
    }
  },
  "nbformat": 4,
  "nbformat_minor": 0
}