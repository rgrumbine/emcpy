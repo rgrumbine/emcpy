{
  "cells": [
    {
      "cell_type": "markdown",
      "metadata": {},
      "source": [
        "\n# Scatter Plot\n\nBelow is an example of how to plot a basic\nscatter plot using EMCPy's plotting method.\n"
      ]
    },
    {
      "cell_type": "code",
      "execution_count": null,
      "metadata": {
        "collapsed": false
      },
      "outputs": [],
      "source": [
        "import numpy as np\nimport matplotlib.pyplot as plt\n\nfrom emcpy.plots.plots import Scatter\nfrom emcpy.plots.create_plots import CreatePlot, CreateFigure\n\n\ndef main():\n\n    # Create scatter plot object\n    x1, y1, x2, y2 = _getScatterData()\n    sctr1 = Scatter(x1, y1)\n\n    # Create plot object and add features\n    plot1 = CreatePlot()\n    plot1.plot_layers = [sctr1]\n    plot1.add_title(label='Scatter Plot')\n    plot1.add_xlabel(xlabel='X Axis Label')\n    plot1.add_ylabel(ylabel='Y Axis Label')\n\n    # Create figure\n    fig = CreateFigure()\n    fig.plot_list = [plot1]\n    fig.create_figure()\n\n    plt.show()\n\n\ndef _getScatterData():\n    # Generate test data for scatter plots\n\n    rng = np.random.RandomState(0)\n    x1 = rng.randn(100)\n    y1 = rng.randn(100)\n\n    rng = np.random.RandomState(0)\n    x2 = rng.randn(30)\n    y2 = rng.randn(30)\n\n    return x1, y1, x2, y2\n\n\nif __name__ == '__main__':\n    main()"
      ]
    }
  ],
  "metadata": {
    "kernelspec": {
      "display_name": "Python 3",
      "language": "python",
      "name": "python3"
    },
    "language_info": {
      "codemirror_mode": {
        "name": "ipython",
        "version": 3
      },
      "file_extension": ".py",
      "mimetype": "text/x-python",
      "name": "python",
      "nbconvert_exporter": "python",
      "pygments_lexer": "ipython3",
      "version": "3.12.2"
    }
  },
  "nbformat": 4,
  "nbformat_minor": 0
}