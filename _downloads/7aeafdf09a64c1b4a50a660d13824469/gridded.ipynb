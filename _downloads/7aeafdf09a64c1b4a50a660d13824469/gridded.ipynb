{
  "cells": [
    {
      "cell_type": "markdown",
      "metadata": {},
      "source": [
        "\n# Gridded\n\nBelow is an example of how to plot a gridded\nplot using EMCPy's plotting method.\n"
      ]
    },
    {
      "cell_type": "code",
      "execution_count": null,
      "metadata": {
        "collapsed": false
      },
      "outputs": [],
      "source": [
        "import numpy as np\nimport matplotlib.pyplot as plt\nfrom scipy.ndimage import gaussian_filter\n\nfrom emcpy.plots.plots import GriddedPlot\nfrom emcpy.plots.create_plots import CreatePlot, CreateFigure\n\n\ndef main():\n    # Create gridded plot\n\n    # Grab sample data\n    x, y, z = _getGriddedData()\n\n    # Create gridded object\n    gp = GriddedPlot(x, y, z)\n    gp.cmap = 'plasma'\n\n    # Create plot object and add features\n    plot1 = CreatePlot()\n    plot1.plot_layers = [gp]\n    plot1.add_xlabel(xlabel='X Axis Label')\n    plot1.add_ylabel(ylabel='Y Axis Label')\n    plot1.add_title('Gridded Plot')\n    plot1.add_colorbar(orientation='vertical')\n\n    # Create figure\n    fig = CreateFigure()\n    fig.plot_list = [plot1]\n    fig.create_figure()\n\n    plt.show()\n\n\ndef _getGriddedData():\n    # Generate test data for gridded data\n\n    x = np.linspace(0, 1, 51)\n    y = np.linspace(0, 1, 51)\n    r = np.random.RandomState(25)\n    z = gaussian_filter(r.random_sample([50, 50]), sigma=5, mode='wrap')\n\n    return x, y, z\n\n\nif __name__ == '__main__':\n    main()"
      ]
    }
  ],
  "metadata": {
    "kernelspec": {
      "display_name": "Python 3",
      "language": "python",
      "name": "python3"
    },
    "language_info": {
      "codemirror_mode": {
        "name": "ipython",
        "version": 3
      },
      "file_extension": ".py",
      "mimetype": "text/x-python",
      "name": "python",
      "nbconvert_exporter": "python",
      "pygments_lexer": "ipython3",
      "version": "3.12.2"
    }
  },
  "nbformat": 4,
  "nbformat_minor": 0
}